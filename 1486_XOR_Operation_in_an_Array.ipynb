{
  "nbformat": 4,
  "nbformat_minor": 0,
  "metadata": {
    "colab": {
      "name": "1486. XOR Operation in an Array.ipynb",
      "provenance": [],
      "authorship_tag": "ABX9TyOcT/zrRHDZpmdTnCHttodF",
      "include_colab_link": true
    },
    "kernelspec": {
      "name": "python3",
      "display_name": "Python 3"
    }
  },
  "cells": [
    {
      "cell_type": "markdown",
      "metadata": {
        "id": "view-in-github",
        "colab_type": "text"
      },
      "source": [
        "<a href=\"https://colab.research.google.com/github/RandyPanGit/LeetCode/blob/main/1486_XOR_Operation_in_an_Array.ipynb\" target=\"_parent\"><img src=\"https://colab.research.google.com/assets/colab-badge.svg\" alt=\"Open In Colab\"/></a>"
      ]
    },
    {
      "cell_type": "markdown",
      "metadata": {
        "id": "Q04ul2rMP5yi"
      },
      "source": [
        "Given an integer **n** and an integer **start**.\n",
        "\n",
        "Define an array nums where  **nums[i] = start + 2*i** (0-indexed) and **n == nums.length.**\n",
        "\n",
        "Return the bitwise XOR of all elements of nums."
      ]
    },
    {
      "cell_type": "markdown",
      "metadata": {
        "id": "UIWZsYf7QObd"
      },
      "source": [
        "**Example 1:**\n",
        "\n",
        "\n",
        "```\n",
        "Input: n = 5, start = 0\n",
        "Output: 8\n",
        "Explanation: Array nums is equal to [0, 2, 4, 6, 8] where (0 ^ 2 ^ 4 ^ 6 ^ 8) = 8.\n",
        "Where \"^\" corresponds to bitwise XOR operator.\n",
        "```\n",
        "\n"
      ]
    },
    {
      "cell_type": "markdown",
      "metadata": {
        "id": "DuOS_QYXQW7e"
      },
      "source": [
        "**Example 2:**\n",
        "\n",
        "\n",
        "```\n",
        "Input: n = 4, start = 3\n",
        "Output: 8\n",
        "Explanation: Array nums is equal to [3, 5, 7, 9] where (3 ^ 5 ^ 7 ^ 9) = 8.\n",
        "```\n",
        "\n"
      ]
    },
    {
      "cell_type": "code",
      "metadata": {
        "id": "4iG7iUifP1hL"
      },
      "source": [
        "class Solution(object):\n",
        "    def xorOperation(self, n, start):\n",
        "        \"\"\"\n",
        "        :type n: int\n",
        "        :type start: int\n",
        "        :rtype: int\n",
        "        \"\"\"\n",
        "        res = start\n",
        "        for i in range(1, n):\n",
        "            res ^= (start + (2*i))\n",
        "        return res"
      ],
      "execution_count": 1,
      "outputs": []
    },
    {
      "cell_type": "code",
      "metadata": {
        "id": "nxSqAHQWQjot"
      },
      "source": [
        "s = Solution"
      ],
      "execution_count": 2,
      "outputs": []
    },
    {
      "cell_type": "code",
      "metadata": {
        "id": "7C8e2_02QoHA",
        "outputId": "4caf2e31-15b0-4f7b-c542-c0d932a6d34e",
        "colab": {
          "base_uri": "https://localhost:8080/"
        }
      },
      "source": [
        "res = s.xorOperation(s, 5, 0)\n",
        "print(res)"
      ],
      "execution_count": 4,
      "outputs": [
        {
          "output_type": "stream",
          "text": [
            "8\n"
          ],
          "name": "stdout"
        }
      ]
    },
    {
      "cell_type": "code",
      "metadata": {
        "id": "oqfvTTiTQsyZ",
        "outputId": "7a9c8da2-43e4-4323-a0f9-13cdfe113030",
        "colab": {
          "base_uri": "https://localhost:8080/"
        }
      },
      "source": [
        "res = s.xorOperation(s, 4, 3)\n",
        "print(res)"
      ],
      "execution_count": 5,
      "outputs": [
        {
          "output_type": "stream",
          "text": [
            "8\n"
          ],
          "name": "stdout"
        }
      ]
    }
  ]
}