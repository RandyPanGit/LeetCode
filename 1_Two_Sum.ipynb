{
  "nbformat": 4,
  "nbformat_minor": 0,
  "metadata": {
    "colab": {
      "name": "1. Two Sum.ipynb",
      "provenance": [],
      "authorship_tag": "ABX9TyNp0zkmpt8+TC9sceTeKFIT",
      "include_colab_link": true
    },
    "kernelspec": {
      "name": "python3",
      "display_name": "Python 3"
    }
  },
  "cells": [
    {
      "cell_type": "markdown",
      "metadata": {
        "id": "view-in-github",
        "colab_type": "text"
      },
      "source": [
        "<a href=\"https://colab.research.google.com/github/RandyPanGit/LeetCode/blob/main/1_Two_Sum.ipynb\" target=\"_parent\"><img src=\"https://colab.research.google.com/assets/colab-badge.svg\" alt=\"Open In Colab\"/></a>"
      ]
    },
    {
      "cell_type": "markdown",
      "metadata": {
        "id": "m1MJ0DCN18Wa"
      },
      "source": [
        "Given an array of integers nums and an integer target, *return indices of the two numbers such that they add up to **target**.*\n",
        "\n",
        "You may assume that each input would have ***exactly one solution***, and you may not use the same element twice.\n",
        "\n",
        "You can return the answer in any order."
      ]
    },
    {
      "cell_type": "markdown",
      "metadata": {
        "id": "3-4i-HoR2K3G"
      },
      "source": [
        "**Example 1:**\n",
        "\n",
        "```\n",
        "Input: nums = [2,7,11,15], target = 9\n",
        "Output: [0,1]\n",
        "Output: Because nums[0] + nums[1] == 9, we return [0, 1].\n",
        "```"
      ]
    },
    {
      "cell_type": "code",
      "metadata": {
        "id": "NMUJEwyE14pL"
      },
      "source": [
        "def twoSum(nums, target):\n",
        "        \"\"\"\n",
        "        :type nums: List[int]\n",
        "        :type target: int\n",
        "        :rtype: List[int]\n",
        "        \"\"\"\n",
        "        rtype = {}\n",
        "        for i in range(0, len(nums)):\n",
        "            c = target - nums[i]\n",
        "            if c in rtype: # has_key was removed in Python3\n",
        "                return [rtype.get(c), i]\n",
        "            else:\n",
        "                rtype[nums[i]] = i"
      ],
      "execution_count": 4,
      "outputs": []
    },
    {
      "cell_type": "code",
      "metadata": {
        "colab": {
          "base_uri": "https://localhost:8080/"
        },
        "id": "xs5QCuva2Yme",
        "outputId": "0c62fd50-f4e1-469f-f6d2-b1dd79ccde09"
      },
      "source": [
        "nums1 = [2,7,6,7]\n",
        "target1 = 9\n",
        "twoSum(nums1, target1)"
      ],
      "execution_count": 5,
      "outputs": [
        {
          "output_type": "execute_result",
          "data": {
            "text/plain": [
              "[0, 1]"
            ]
          },
          "metadata": {
            "tags": []
          },
          "execution_count": 5
        }
      ]
    }
  ]
}