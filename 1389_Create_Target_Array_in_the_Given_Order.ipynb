{
  "nbformat": 4,
  "nbformat_minor": 0,
  "metadata": {
    "colab": {
      "name": "1389. Create Target Array in the Given Order.ipynb",
      "provenance": [],
      "authorship_tag": "ABX9TyOR8fATyPAFeI1IjlXwu1B7",
      "include_colab_link": true
    },
    "kernelspec": {
      "name": "python3",
      "display_name": "Python 3"
    }
  },
  "cells": [
    {
      "cell_type": "markdown",
      "metadata": {
        "id": "view-in-github",
        "colab_type": "text"
      },
      "source": [
        "<a href=\"https://colab.research.google.com/github/RandyPanGit/LeetCode/blob/main/1389_Create_Target_Array_in_the_Given_Order.ipynb\" target=\"_parent\"><img src=\"https://colab.research.google.com/assets/colab-badge.svg\" alt=\"Open In Colab\"/></a>"
      ]
    },
    {
      "cell_type": "markdown",
      "metadata": {
        "id": "NkfEtMnPl_tN"
      },
      "source": [
        "Given two arrays of integers **nums** and **index**. Your task is to create target array under the following rules:\n",
        "\n",
        "\n",
        "\n",
        "*   Initially target array is empty.\n",
        "*   From left to right read **nums[i]** and **index[i]**, insert at index index[i] the value nums[i] in target array.\n",
        "*   Repeat the previous step until there are no elements to read in nums and index.\n",
        "\n",
        "Return the target array.\n",
        "\n",
        "\n",
        "\n",
        "It is guaranteed that the insertion operations will be valid."
      ]
    },
    {
      "cell_type": "markdown",
      "metadata": {
        "id": "Xc85hOpSmbPF"
      },
      "source": [
        "**Example 1:**\n",
        "\n",
        "\n",
        "```\n",
        "Input: nums = [0,1,2,3,4], index = [0,1,2,2,1]\n",
        "Output: [0,4,1,3,2]\n",
        "Explanation:\n",
        "nums       index     target\n",
        "0            0        [0]\n",
        "1            1        [0,1]\n",
        "2            2        [0,1,2]\n",
        "3            2        [0,1,3,2]\n",
        "4            1        [0,4,1,3,2]\n",
        "```\n",
        "\n"
      ]
    },
    {
      "cell_type": "markdown",
      "metadata": {
        "id": "RofcFRYUmq02"
      },
      "source": [
        "**Example 2:**\n",
        "\n",
        "\n",
        "\n",
        "```\n",
        "Input: nums = [1,2,3,4,0], index = [0,1,2,3,0]\n",
        "Output: [0,1,2,3,4]\n",
        "Explanation:\n",
        "nums       index     target\n",
        "1            0        [1]\n",
        "2            1        [1,2]\n",
        "3            2        [1,2,3]\n",
        "4            3        [1,2,3,4]\n",
        "0            0        [0,1,2,3,4]\n",
        "```\n",
        "\n"
      ]
    },
    {
      "cell_type": "markdown",
      "metadata": {
        "id": "ic2ThoIOm0nG"
      },
      "source": [
        "**Example 3:**\n",
        "\n",
        "\n",
        "\n",
        "\n",
        "```\n",
        "Input: nums = [1], index = [0]\n",
        "Output: [1]\n",
        "```\n",
        "\n",
        "\n",
        "\n"
      ]
    },
    {
      "cell_type": "code",
      "metadata": {
        "id": "GiqsUGN-l6dp"
      },
      "source": [
        "class Solution(object):\n",
        "    def createTargetArray(self, nums, index):\n",
        "        \"\"\"\n",
        "        :type nums: List[int]\n",
        "        :type index: List[int]\n",
        "        :rtype: List[int]\n",
        "        \"\"\"\n",
        "        result = []\n",
        "        for n, i in zip(nums, index):\n",
        "          if result:\n",
        "            # print(nums[i])\n",
        "            result.insert(i, n)\n",
        "          else:\n",
        "            # print(nums[i])\n",
        "            result.append(n)\n",
        "            \n",
        "        return result"
      ],
      "execution_count": null,
      "outputs": []
    },
    {
      "cell_type": "code",
      "metadata": {
        "id": "t6clU5OKqmk5",
        "outputId": "0dd4237a-1e90-4cf4-cb35-5aab23c39c5b",
        "colab": {
          "base_uri": "https://localhost:8080/"
        }
      },
      "source": [
        "nums1 = [0,1,2,3,4]\n",
        "index1 = [0,1,2,2,1]\n",
        "s = Solution\n",
        "result = s.createTargetArray(s, nums=nums1, index=index1)\n",
        "print(result)"
      ],
      "execution_count": null,
      "outputs": [
        {
          "output_type": "stream",
          "text": [
            "[0, 4, 1, 3, 2]\n"
          ],
          "name": "stdout"
        }
      ]
    }
  ]
}