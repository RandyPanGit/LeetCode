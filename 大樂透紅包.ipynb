{
  "nbformat": 4,
  "nbformat_minor": 0,
  "metadata": {
    "colab": {
      "name": "大樂透紅包.ipynb",
      "provenance": [],
      "authorship_tag": "ABX9TyMrO/wGW8NKk75ziKnoXTlz",
      "include_colab_link": true
    },
    "kernelspec": {
      "name": "python3",
      "display_name": "Python 3"
    }
  },
  "cells": [
    {
      "cell_type": "markdown",
      "metadata": {
        "id": "view-in-github",
        "colab_type": "text"
      },
      "source": [
        "<a href=\"https://colab.research.google.com/github/RandyPanGit/LeetCode/blob/main/%E5%A4%A7%E6%A8%82%E9%80%8F%E7%B4%85%E5%8C%85.ipynb\" target=\"_parent\"><img src=\"https://colab.research.google.com/assets/colab-badge.svg\" alt=\"Open In Colab\"/></a>"
      ]
    },
    {
      "cell_type": "code",
      "metadata": {
        "id": "C7NdAFebDUyf"
      },
      "source": [
        "import pandas as pd"
      ],
      "execution_count": 1,
      "outputs": []
    },
    {
      "cell_type": "code",
      "metadata": {
        "colab": {
          "base_uri": "https://localhost:8080/"
        },
        "id": "iVYRLhnzTNQk",
        "outputId": "c8b676c8-4584-471b-8913-1e510fe33b9f"
      },
      "source": [
        "your_nums = [int(x) for x in input(\"輸入你的獎號: \").split(\",\")] "
      ],
      "execution_count": 87,
      "outputs": [
        {
          "output_type": "stream",
          "text": [
            "輸入你的獎號: 3,4,5,65,7,8\n"
          ],
          "name": "stdout"
        }
      ]
    },
    {
      "cell_type": "code",
      "metadata": {
        "colab": {
          "base_uri": "https://localhost:8080/"
        },
        "id": "wfEEu3cyVZwY",
        "outputId": "61f05def-8bcb-4bc7-df3e-2d032670de21"
      },
      "source": [
        "no = input(\"請輸入期別後三碼：\")"
      ],
      "execution_count": 91,
      "outputs": [
        {
          "output_type": "stream",
          "text": [
            "請輸入期別後三碼：013\n"
          ],
          "name": "stdout"
        }
      ]
    },
    {
      "cell_type": "code",
      "metadata": {
        "colab": {
          "base_uri": "https://localhost:8080/"
        },
        "id": "0VMhHQ6PEU3k",
        "outputId": "6368f98e-00b6-4bd7-b3ba-25b684983c19"
      },
      "source": [
        "url = f'https://www.taiwanlottery.com.tw/Hinet2021/Result_all2021Hinet110000{no}.htm'\r\n",
        "print(url)"
      ],
      "execution_count": 94,
      "outputs": [
        {
          "output_type": "stream",
          "text": [
            "https://www.taiwanlottery.com.tw/Hinet2021/Result_all2021Hinet110000013.htm\n"
          ],
          "name": "stdout"
        }
      ]
    },
    {
      "cell_type": "code",
      "metadata": {
        "colab": {
          "base_uri": "https://localhost:8080/"
        },
        "id": "E0m6XvoBEaU3",
        "outputId": "f7cb82fc-77c0-4cf6-ea0b-041f4e456a38"
      },
      "source": [
        "table = pd.read_html(url)[1]\r\n",
        "table = table[2:]\r\n",
        "list1 = table.values.tolist()[0][1:9]\r\n",
        "list2 = [int(i) for i in list1]\r\n",
        "result_lsit = set(list2) & set(your_nums)\r\n",
        "result = len(result_lsit)\r\n",
        "\r\n",
        "if result >= 6:\r\n",
        "  print(\"中大獎啦\")\r\n",
        "else:\r\n",
        "  print(f\"只中{result}號,再接再厲\")"
      ],
      "execution_count": 93,
      "outputs": [
        {
          "output_type": "stream",
          "text": [
            "只中3號,再接再厲\n"
          ],
          "name": "stdout"
        }
      ]
    }
  ]
}