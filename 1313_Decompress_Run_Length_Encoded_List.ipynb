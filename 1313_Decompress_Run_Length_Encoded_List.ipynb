{
  "nbformat": 4,
  "nbformat_minor": 0,
  "metadata": {
    "colab": {
      "name": "1313.Decompress_Run-Length_Encoded_List.ipynb",
      "provenance": [],
      "authorship_tag": "ABX9TyNTqx5+klOcbdU38xj2k/AG",
      "include_colab_link": true
    },
    "kernelspec": {
      "name": "python3",
      "display_name": "Python 3"
    }
  },
  "cells": [
    {
      "cell_type": "markdown",
      "metadata": {
        "id": "view-in-github",
        "colab_type": "text"
      },
      "source": [
        "<a href=\"https://colab.research.google.com/github/RandyPanGit/LeetCode/blob/main/1313_Decompress_Run_Length_Encoded_List.ipynb\" target=\"_parent\"><img src=\"https://colab.research.google.com/assets/colab-badge.svg\" alt=\"Open In Colab\"/></a>"
      ]
    },
    {
      "cell_type": "markdown",
      "metadata": {
        "id": "snw8Q3UbilLB"
      },
      "source": [
        "# 1313. Decompress Run-Length Encoded List\n",
        "\n",
        "We are given a list nums of integers representing a list compressed with run-length encoding.\n",
        "\n",
        "Consider each adjacent pair of elements **[freq, val] = [nums[2*i], nums[2*i+1]] (with i >= 0)**.  For each such pair, there are freq elements with value val concatenated in a sublist. Concatenate all the sublists from left to right to generate the decompressed list.\n",
        "\n",
        "Return the decompressed list.\n",
        "\n",
        "**Example 1:**\n",
        "\n",
        "\n",
        "> Input: nums = [1,2,3,4]\n",
        "Output: [2,4,4,4]\n",
        "Explanation: The first pair [1,2] means we have freq = 1 and val = 2 so we generate the array [2].</br>\n",
        "The second pair [3,4] means we have freq = 3 and val = 4 so we generate [4,4,4].\n",
        "At the end the concatenation [2] + [4,4,4] is [2,4,4,4].\n",
        "\n",
        "**Example 2:**\n",
        "\n",
        "\n",
        "\n",
        "> Input: nums = [1,1,2,3] </br> Output: [1,3,3]\n",
        "\n",
        "\n"
      ]
    },
    {
      "cell_type": "code",
      "metadata": {
        "id": "PDDM22cpigQ5"
      },
      "source": [
        "class Solution:\n",
        "  def decompressRLElist(self, nums):\n",
        "    result = list()\n",
        "    for i in range(0, int(len(nums)/2)):\n",
        "      for k in range(0, nums[2*i]):\n",
        "        result.append(nums[2*i+1])\n",
        "    return result\n"
      ],
      "execution_count": 19,
      "outputs": []
    },
    {
      "cell_type": "code",
      "metadata": {
        "id": "ClS5EZM1lpAl"
      },
      "source": [
        "s = Solution"
      ],
      "execution_count": 20,
      "outputs": []
    },
    {
      "cell_type": "code",
      "metadata": {
        "id": "bhXsr17kltwu",
        "outputId": "8c17a171-7ce4-4224-dc54-48a8faf319f1",
        "colab": {
          "base_uri": "https://localhost:8080/"
        }
      },
      "source": [
        "r = s.decompressRLElist(s, nums=[1,2,3,4,5,6])\n",
        "print(r)"
      ],
      "execution_count": 23,
      "outputs": [
        {
          "output_type": "stream",
          "text": [
            "[2, 4, 4, 4, 6, 6, 6, 6, 6]\n"
          ],
          "name": "stdout"
        }
      ]
    }
  ]
}