{
  "nbformat": 4,
  "nbformat_minor": 0,
  "metadata": {
    "colab": {
      "name": "1290. Convert Binary Number in a Linked List to Integer.ipynb",
      "provenance": [],
      "authorship_tag": "ABX9TyMYSBG8NWBLXUdwr1z2nYNs",
      "include_colab_link": true
    },
    "kernelspec": {
      "name": "python3",
      "display_name": "Python 3"
    }
  },
  "cells": [
    {
      "cell_type": "markdown",
      "metadata": {
        "id": "view-in-github",
        "colab_type": "text"
      },
      "source": [
        "<a href=\"https://colab.research.google.com/github/RandyPanGit/LeetCode/blob/main/1290_Convert_Binary_Number_in_a_Linked_List_to_Integer.ipynb\" target=\"_parent\"><img src=\"https://colab.research.google.com/assets/colab-badge.svg\" alt=\"Open In Colab\"/></a>"
      ]
    },
    {
      "cell_type": "markdown",
      "metadata": {
        "id": "VZqg9jbF2zO2"
      },
      "source": [
        "\n",
        "Given **head** which is a reference node to a singly-linked list. The value of each node in the linked list is either 0 or 1. The linked list holds the binary representation of a number.\n",
        "\n",
        "Return the decimal value of the number in the linked list.\n",
        "\n",
        "**Example 1:**\n",
        "\n",
        "\n",
        "\n",
        "> Input: head = [1,0,1]\n",
        "\n",
        "\n",
        "```\n",
        "Input: head = [1,0,1]\n",
        "Output: 5\n",
        "Explanation: (101) in base 2 = (5) in base 10\n",
        "```\n",
        "\n",
        "\n",
        "\n",
        "給定一個link list算出 十進制\n",
        "\n"
      ]
    },
    {
      "cell_type": "code",
      "metadata": {
        "id": "jyB4hFCI2jDF"
      },
      "source": [
        "# Definition for singly-linked list.\n",
        "class ListNode(object):\n",
        "    def __init__(self, val=0, next=None):\n",
        "        self.val = val\n",
        "        self.next = next\n",
        "class Solution(object):\n",
        "    def getDecimalValue(self, head):\n",
        "        \"\"\"\n",
        "        :type head: ListNode\n",
        "        :rtype: int\n",
        "        \"\"\"\n",
        "        list1 = []\n",
        "        while head != None:\n",
        "            list1.append(head.val)\n",
        "            head = head.next\n",
        "        \n",
        "        j = 0\n",
        "        _sum = 0\n",
        "        for i in list1[::-1]:\n",
        "            _sum += i * 2 ** j\n",
        "            j=j+1\n",
        "        return _sum"
      ],
      "execution_count": 1,
      "outputs": []
    }
  ]
}